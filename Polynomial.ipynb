{
 "cells": [
  {
   "cell_type": "code",
   "execution_count": 1,
   "metadata": {
    "collapsed": false
   },
   "outputs": [],
   "source": [
    "push!(LOAD_PATH, \"/Users/sascha/Dropbox/Coding/Polynomial/\");\n",
    "import Polynomial\n",
    "import ResidueClass"
   ]
  },
  {
   "cell_type": "code",
   "execution_count": 135,
   "metadata": {
    "collapsed": false
   },
   "outputs": [
    {
     "name": "stderr",
     "output_type": "stream",
     "text": [
      "Warning: replacing module Polynomial\n",
      "Warning: replacing module ResidueClass\n"
     ]
    }
   ],
   "source": [
    "reload(\"Polynomial\")\n",
    "reload(\"ResidueClass\")"
   ]
  },
  {
   "cell_type": "code",
   "execution_count": 136,
   "metadata": {
    "collapsed": false
   },
   "outputs": [
    {
     "data": {
      "text/plain": [
       "Polynomial.Poly{Rational{Int64}}(Rational{Int64}[2//1,3//1,4//1,-3//1,-2//1],:x)"
      ]
     },
     "execution_count": 136,
     "metadata": {},
     "output_type": "execute_result"
    }
   ],
   "source": [
    "p = Polynomial.Poly([2,3,4,-3//1,-2], :x)\n",
    "p"
   ]
  },
  {
   "cell_type": "code",
   "execution_count": 137,
   "metadata": {
    "collapsed": false
   },
   "outputs": [
    {
     "data": {
      "text/plain": [
       "6-element Array{ResidueClass.Residue{Int64},1}:\n",
       " ResidueClass.Residue{Int64}(1,163,1,163)\n",
       " ResidueClass.Residue{Int64}(0,163,1,163)\n",
       " ResidueClass.Residue{Int64}(0,163,1,163)\n",
       " ResidueClass.Residue{Int64}(0,163,1,163)\n",
       " ResidueClass.Residue{Int64}(0,163,1,163)\n",
       " ResidueClass.Residue{Int64}(1,163,1,163)"
      ]
     },
     "execution_count": 137,
     "metadata": {},
     "output_type": "execute_result"
    }
   ],
   "source": [
    "val = ResidueClass.Residue([1,0,0,0,0,1],163)"
   ]
  },
  {
   "cell_type": "code",
   "execution_count": 138,
   "metadata": {
    "collapsed": false
   },
   "outputs": [
    {
     "name": "stdout",
     "output_type": "stream",
     "text": [
      "X^5+(1 mod 163)"
     ]
    }
   ],
   "source": [
    "f = Polynomial.Poly(val)\n",
    "print(f)"
   ]
  },
  {
   "cell_type": "code",
   "execution_count": 139,
   "metadata": {
    "collapsed": false
   },
   "outputs": [
    {
     "data": {
      "text/plain": [
       "6-element Array{ResidueClass.Residue{Int64},1}:\n",
       " ResidueClass.Residue{Int64}(151,163,1,163)\n",
       " ResidueClass.Residue{Int64}(14,163,1,163) \n",
       " ResidueClass.Residue{Int64}(24,163,1,163) \n",
       " ResidueClass.Residue{Int64}(33,163,1,163) \n",
       " ResidueClass.Residue{Int64}(51,163,1,163) \n",
       " ResidueClass.Residue{Int64}(162,163,1,163)"
      ]
     },
     "execution_count": 139,
     "metadata": {},
     "output_type": "execute_result"
    }
   ],
   "source": [
    "values = ResidueClass.Residue([-12,14,24,33,51,-1],163)"
   ]
  },
  {
   "cell_type": "code",
   "execution_count": 140,
   "metadata": {
    "collapsed": false
   },
   "outputs": [
    {
     "name": "stdout",
     "output_type": "stream",
     "text": [
      "f (70 mod 163)\n",
      "q X+(12 mod 163)\n",
      "f (101 mod 163)X+(141 mod 163)\n",
      "q X^2+(161 mod 163)X+(158 mod 163)\n",
      "f (61 mod 163)X^2+(142 mod 163)X+(162 mod 163)\n",
      "q X^3+(137 mod 163)X^2+(43 mod 163)X+(120 mod 163)\n",
      "f (135 mod 163)X^3+(137 mod 163)X^2+(79 mod 163)X+(62 mod 163)\n",
      "q X^4+(104 mod 163)X^3+(86 mod 163)X^2+(5 mod 163)X+(115 mod 163)\n",
      "f (110 mod 163)X^4+(2 mod 163)X^3+(143 mod 163)X^2+(140 mod 163)X+(161 mod 163)\n",
      "q X^5+(53 mod 163)X^4+(161 mod 163)X^3+(20 mod 163)X^2+(23 mod 163)X+(3 mod 163)\n",
      "f X^5+(1 mod 163)\n",
      "q X^6+(54 mod 163)X^5+(51 mod 163)X^4+(18 mod 163)X^3+(43 mod 163)X^2+(26 mod 163)X+(3 mod 163)\n",
      "X^5+(1 mod 163)\n"
     ]
    }
   ],
   "source": [
    "println(Polynomial.NewtonInterpol(f, values))"
   ]
  },
  {
   "cell_type": "code",
   "execution_count": 99,
   "metadata": {
    "collapsed": false
   },
   "outputs": [
    {
     "data": {
      "text/plain": [
       "ResidueClass.Residue{Int64}(4,5,1,5)"
      ]
     },
     "execution_count": 99,
     "metadata": {},
     "output_type": "execute_result"
    }
   ],
   "source": [
    "ResidueClass.Residue(4,5,1,5)"
   ]
  },
  {
   "cell_type": "code",
   "execution_count": 62,
   "metadata": {
    "collapsed": false
   },
   "outputs": [
    {
     "data": {
      "text/plain": [
       "ResidueClass.Residue{Int64}"
      ]
     },
     "execution_count": 62,
     "metadata": {},
     "output_type": "execute_result"
    }
   ],
   "source": [
    "typeof(f[0])"
   ]
  },
  {
   "cell_type": "code",
   "execution_count": 64,
   "metadata": {
    "collapsed": false
   },
   "outputs": [
    {
     "ename": "LoadError",
     "evalue": "LoadError: StackOverflowError:\nwhile loading In[64], in expression starting on line 1",
     "output_type": "error",
     "traceback": [
      "LoadError: StackOverflowError:\nwhile loading In[64], in expression starting on line 1",
      "",
      " in call at /Users/sascha/Dropbox/Coding/Polynomial/ResidueClass.jl:32 (repeats 80000 times)"
     ]
    }
   ],
   "source": [
    "ResidueClass.Residue(zero(Int64),f[0])"
   ]
  },
  {
   "cell_type": "code",
   "execution_count": 101,
   "metadata": {
    "collapsed": false
   },
   "outputs": [
    {
     "name": "stdout",
     "output_type": "stream",
     "text": [
      "f 4//1\n",
      "q x-1//1\n",
      "f -100//1x+104//1\n",
      "q x^2-4//1x+3//1\n",
      "f -110//1x^2+340//1x-226//1\n",
      "q x^3-8//1x^2+19//1x-12//1\n",
      "f -35//1x^3+170//1x^2-325//1x+194//1\n",
      "q x^4-16//1x^3+83//1x^2-164//1x+96//1\n",
      "f -2//1x^4-3//1x^3+4//1x^2+3//1x+2//1\n",
      "q x^5-88//5x^4+543//5x^3-1484//5x^2+1792//5x-768//5\n",
      "-2//1x^4-3//1x^3+4//1x^2+3//1x+2//1\n"
     ]
    }
   ],
   "source": [
    "println(Polynomial.NewtonInterpol(p, [1,3,4,8,8//5]))"
   ]
  },
  {
   "cell_type": "code",
   "execution_count": 26,
   "metadata": {
    "collapsed": false
   },
   "outputs": [
    {
     "data": {
      "text/plain": [
       "Polynomial.Poly{Int64}([1],:x)"
      ]
     },
     "execution_count": 26,
     "metadata": {},
     "output_type": "execute_result"
    }
   ],
   "source": [
    "f = zero(p)\n",
    "q = one(p)"
   ]
  },
  {
   "cell_type": "code",
   "execution_count": null,
   "metadata": {
    "collapsed": true
   },
   "outputs": [],
   "source": []
  },
  {
   "cell_type": "code",
   "execution_count": 27,
   "metadata": {
    "collapsed": false
   },
   "outputs": [
    {
     "data": {
      "text/plain": [
       "Polynomial.Poly{Int64}([-32],:x)"
      ]
     },
     "execution_count": 27,
     "metadata": {},
     "output_type": "execute_result"
    }
   ],
   "source": [
    "f += q(2)*q*(p(2)-f(2))"
   ]
  },
  {
   "cell_type": "code",
   "execution_count": 25,
   "metadata": {
    "collapsed": false
   },
   "outputs": [
    {
     "data": {
      "text/plain": [
       "Polynomial.Poly{Int64}([-1,1],:x)"
      ]
     },
     "execution_count": 25,
     "metadata": {},
     "output_type": "execute_result"
    }
   ],
   "source": [
    "q = Polynomial.Poly([-1, 1], p.var) * q"
   ]
  },
  {
   "cell_type": "code",
   "execution_count": 139,
   "metadata": {
    "collapsed": false
   },
   "outputs": [
    {
     "data": {
      "text/plain": [
       "4-element Array{ResidueClass.Residue{Int64},1}:\n",
       " ResidueClass.Residue{Int64}(3,5,1,5)\n",
       " ResidueClass.Residue{Int64}(3,5,1,5)\n",
       " ResidueClass.Residue{Int64}(2,5,1,5)\n",
       " ResidueClass.Residue{Int64}(1,5,1,5)"
      ]
     },
     "execution_count": 139,
     "metadata": {},
     "output_type": "execute_result"
    }
   ],
   "source": [
    "ResidueClass.Residue([18,3,2,6], 5, 1)"
   ]
  },
  {
   "cell_type": "code",
   "execution_count": 140,
   "metadata": {
    "collapsed": false
   },
   "outputs": [
    {
     "data": {
      "text/plain": [
       "Polynomial.Poly{ResidueClass.Residue{Int64}}([ResidueClass.Residue{Int64}(3,5,1,5),ResidueClass.Residue{Int64}(3,5,1,5),ResidueClass.Residue{Int64}(2,5,1,5),ResidueClass.Residue{Int64}(1,5,1,5)],:X)"
      ]
     },
     "execution_count": 140,
     "metadata": {},
     "output_type": "execute_result"
    }
   ],
   "source": [
    "p = Polynomial.Poly(ResidueClass.Residue([18,3,2,6], 5, 1))"
   ]
  },
  {
   "cell_type": "code",
   "execution_count": 141,
   "metadata": {
    "collapsed": false
   },
   "outputs": [
    {
     "name": "stdout",
     "output_type": "stream",
     "text": [
      "X^3+(2 mod 5)X^2+(3 mod 5)X+(3 mod 5)"
     ]
    }
   ],
   "source": [
    "print(p)"
   ]
  },
  {
   "cell_type": "code",
   "execution_count": 121,
   "metadata": {
    "collapsed": false
   },
   "outputs": [
    {
     "ename": "LoadError",
     "evalue": "LoadError: MethodError: `*` has no method matching *(::Polynomial.Poly{ResidueClass.Residue{Int64}}, ::Int64)\nClosest candidates are:\n  *(::Any, ::Any, !Matched::Any)\n  *(::Any, ::Any, !Matched::Any, !Matched::Any...)\n  *{T<:Number}(!Matched::Bool, ::T<:Number)\n  ...\nwhile loading In[121], in expression starting on line 1",
     "output_type": "error",
     "traceback": [
      "LoadError: MethodError: `*` has no method matching *(::Polynomial.Poly{ResidueClass.Residue{Int64}}, ::Int64)\nClosest candidates are:\n  *(::Any, ::Any, !Matched::Any)\n  *(::Any, ::Any, !Matched::Any, !Matched::Any...)\n  *{T<:Number}(!Matched::Bool, ::T<:Number)\n  ...\nwhile loading In[121], in expression starting on line 1",
      ""
     ]
    }
   ],
   "source": [
    "(div, rem) = divrem(p,p * 4)"
   ]
  },
  {
   "cell_type": "code",
   "execution_count": 120,
   "metadata": {
    "collapsed": false
   },
   "outputs": [
    {
     "name": "stdout",
     "output_type": "stream",
     "text": [
      "0"
     ]
    }
   ],
   "source": [
    "print(rem)"
   ]
  },
  {
   "cell_type": "code",
   "execution_count": 111,
   "metadata": {
    "collapsed": false
   },
   "outputs": [
    {
     "data": {
      "text/plain": [
       "4294967296"
      ]
     },
     "execution_count": 111,
     "metadata": {},
     "output_type": "execute_result"
    }
   ],
   "source": [
    "x[1]"
   ]
  },
  {
   "cell_type": "code",
   "execution_count": 101,
   "metadata": {
    "collapsed": false
   },
   "outputs": [
    {
     "data": {
      "text/plain": [
       "Polynomial.Poly{ResidueClass.Residue{Int64}}([ResidueClass.Residue{Int64}(1,5,1,5)],:X)"
      ]
     },
     "execution_count": 101,
     "metadata": {},
     "output_type": "execute_result"
    }
   ],
   "source": [
    "div"
   ]
  },
  {
   "cell_type": "code",
   "execution_count": 71,
   "metadata": {
    "collapsed": false
   },
   "outputs": [
    {
     "data": {
      "text/plain": [
       "ResidueClass.Residue{Int64}(1,5,1,5)"
      ]
     },
     "execution_count": 71,
     "metadata": {},
     "output_type": "execute_result"
    }
   ],
   "source": [
    "ResidueClass.one(p[0]) / Polynomial.lc(p)"
   ]
  },
  {
   "cell_type": "code",
   "execution_count": 64,
   "metadata": {
    "collapsed": false
   },
   "outputs": [
    {
     "data": {
      "text/plain": [
       "ResidueClass.Residue{Int64}"
      ]
     },
     "execution_count": 64,
     "metadata": {},
     "output_type": "execute_result"
    }
   ],
   "source": [
    "typeof(Polynomial.lc(p))"
   ]
  },
  {
   "cell_type": "code",
   "execution_count": 146,
   "metadata": {
    "collapsed": false
   },
   "outputs": [
    {
     "data": {
      "text/plain": [
       "ResidueClass.Residue{Int64}(4,17,1,17)"
      ]
     },
     "execution_count": 146,
     "metadata": {},
     "output_type": "execute_result"
    }
   ],
   "source": [
    "function reinterpret(t::R"
   ]
  },
  {
   "cell_type": "code",
   "execution_count": 156,
   "metadata": {
    "collapsed": false
   },
   "outputs": [
    {
     "name": "stdout",
     "output_type": "stream",
     "text": [
      "4 mod 17"
     ]
    }
   ],
   "source": [
    "print(b)"
   ]
  }
 ],
 "metadata": {
  "kernelspec": {
   "display_name": "Julia 0.4.0-dev",
   "language": "julia",
   "name": "julia 0.4"
  },
  "language_info": {
   "name": "julia",
   "version": "0.4.0"
  }
 },
 "nbformat": 4,
 "nbformat_minor": 0
}
